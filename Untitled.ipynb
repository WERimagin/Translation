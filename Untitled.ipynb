{
 "cells": [
  {
   "cell_type": "code",
   "execution_count": 30,
   "metadata": {},
   "outputs": [],
   "source": [
    "import warnings\n",
    "warnings.filterwarnings('ignore')\n",
    "import sys\n",
    "sys.path.append(\"../\")\n",
    "from tqdm import tqdm\n",
    "import nltk\n",
    "import pickle\n",
    "import json\n",
    "\n",
    "import numpy as np\n",
    "import argparse\n",
    "import torch\n",
    "import torch.nn as nn\n",
    "import torch.nn.functional as F\n",
    "import torch.optim as optim\n",
    "import torch.utils.data as data\n",
    "from torch.autograd import Variable\n",
    "import time\n",
    "from model.seq2seq import Seq2Seq\n",
    "from func.utils import Word2Id,BatchMaker,make_vec,make_vec_c,to_var\n",
    "import nltk\n",
    "\n",
    "path=\"data/processed_data.json\"\n",
    "\n",
    "with open(path,\"r\")as f:\n",
    "    t=json.load(f)\n",
    "    sentences=t[\"source\"]\n",
    "    questions=t[\"target\"]"
   ]
  },
  {
   "cell_type": "code",
   "execution_count": 31,
   "metadata": {},
   "outputs": [],
   "source": [
    "import matplotlib.pyplot as plt\n",
    "import collections\n",
    "\n",
    "src_length=collections.defaultdict(int)\n",
    "\n",
    "for i in range(len(sentences)):\n",
    "    src_length[len(sentences[i].split())]+=1\n",
    "    "
   ]
  },
  {
   "cell_type": "code",
   "execution_count": 33,
   "metadata": {},
   "outputs": [
    {
     "data": {
      "text/plain": [
       "<BarContainer object of 43 artists>"
      ]
     },
     "execution_count": 33,
     "metadata": {},
     "output_type": "execute_result"
    },
    {
     "data": {
      "image/png": "[encoded data removed]",
      "text/plain": [
       "<Figure size 432x288 with 1 Axes>"
      ]
     },
     "metadata": {},
     "output_type": "display_data"
    }
   ],
   "source": [
    "size=1000\n",
    "key=list(src_length.keys())\n",
    "value=list(src_length.values())\n",
    "\n",
    "plt.bar(key[0:size],value[0:size])"
   ]
  },
  {
   "cell_type": "code",
   "execution_count": 63,
   "metadata": {},
   "outputs": [
    {
     "name": "stdout",
     "output_type": "stream",
     "text": [
      "7.703744055593999\n"
     ]
    }
   ],
   "source": [
    "length_list=[len(s.split()) for s in sentences if len(s.split())<100]\n",
    "print(np.average(length_list))"
   ]
  },
  {
   "cell_type": "code",
   "execution_count": 35,
   "metadata": {},
   "outputs": [
    {
     "name": "stdout",
     "output_type": "stream",
     "text": [
      "va !\n",
      "go .\n",
      "\n",
      "improvisons .\n",
      "let 's improvise .\n",
      "\n",
      "je veux savoir pourquoi .\n",
      "i want to know why .\n",
      "\n",
      "parle-nous-en !\n",
      "tell us all about it .\n",
      "\n",
      "ça pourrait être n'importe quoi .\n",
      "that could be anything .\n",
      "\n",
      "les prix sont moindres à kobe .\n",
      "prices are lower in kobe .\n",
      "\n",
      "je viendrai si j'ai le temps .\n",
      "i will come if i have time .\n",
      "\n",
      "j'aime vraiment tes tableaux .\n",
      "i really like your paintings .\n",
      "\n",
      "je n'oublierai jamais t'avoir vu .\n",
      "i will never forget seeing you .\n",
      "\n",
      "ce sont eux qui ont planté ces arbres .\n",
      "these trees were planted by them .\n",
      "\n",
      "c'est un plaisir que de finalement vous rencontrer .\n",
      "it 's a pleasure to finally meet you .\n",
      "\n",
      "comment se fait-il que tu les aies vues en train de le faire ?\n",
      "how did you happen to see them doing it ?\n",
      "\n",
      "les nuages flottant dans le ciel sont magnifiques .\n",
      "the clouds floating in the sky are beautiful .\n",
      "\n",
      "y a-t-il quelque chose de particulier que vous vouliez regarder ?\n",
      "is there something in particular that you want to watch ?\n",
      "\n"
     ]
    }
   ],
   "source": [
    "for i in range(0,len(sentence),10000):\n",
    "    print(sentence[i])\n",
    "    print(question[i])\n",
    "    print()"
   ]
  },
  {
   "cell_type": "code",
   "execution_count": 25,
   "metadata": {},
   "outputs": [
    {
     "name": "stdout",
     "output_type": "stream",
     "text": [
      "?\n"
     ]
    }
   ],
   "source": [
    "print(id2word[12])"
   ]
  },
  {
   "cell_type": "code",
   "execution_count": 27,
   "metadata": {},
   "outputs": [
    {
     "data": {
      "text/plain": [
       "False"
      ]
     },
     "execution_count": 27,
     "metadata": {},
     "output_type": "execute_result"
    }
   ],
   "source": [
    "import os\n",
    "os.path.exists(\"log.txt\")"
   ]
  },
  {
   "cell_type": "code",
   "execution_count": 1,
   "metadata": {},
   "outputs": [],
   "source": [
    "data=[]\n",
    "with open(\"data/eng-fra.txt\")as f:\n",
    "    for line in f:\n",
    "        data.append(line.strip())\n",
    "        \n",
    "    "
   ]
  },
  {
   "cell_type": "code",
   "execution_count": 18,
   "metadata": {},
   "outputs": [
    {
     "name": "stdout",
     "output_type": "stream",
     "text": [
      "[\"Let's improvise.\", 'Improvisons.']\n",
      "[\"Let's improvise.\", 'Improvisons !']\n",
      "[\"Let's live here.\", 'Vivons ici !']\n",
      "[\"Let's negotiate.\", 'Négocions.']\n",
      "[\"Let's not argue.\", 'Ne nous disputons pas !']\n",
      "[\"Let's not fight.\", 'Ne nous battons pas !']\n",
      "[\"Let's not gloat.\", 'Ne jubilons pas !']\n",
      "[\"Let's not panic.\", 'Ne paniquons pas.']\n",
      "[\"Let's rest here.\", 'Reposons-nous ici.']\n",
      "[\"Let's start now.\", 'Commençons maintenant.']\n"
     ]
    }
   ],
   "source": [
    "for line in data[10000:10010]:\n",
    "    a=line.split(\"\\t\")\n",
    "    print(a)"
   ]
  },
  {
   "cell_type": "code",
   "execution_count": 6,
   "metadata": {},
   "outputs": [
    {
     "ename": "NameError",
     "evalue": "name 'data' is not defined",
     "output_type": "error",
     "traceback": [
      "\u001b[0;31m---------------------------------------------------------------------------\u001b[0m",
      "\u001b[0;31mNameError\u001b[0m                                 Traceback (most recent call last)",
      "\u001b[0;32m<ipython-input-6-24736949bd1f>\u001b[0m in \u001b[0;36m<module>\u001b[0;34m()\u001b[0m\n\u001b[1;32m      1\u001b[0m \u001b[0;32mimport\u001b[0m \u001b[0mnumpy\u001b[0m \u001b[0;32mas\u001b[0m \u001b[0mnp\u001b[0m\u001b[0;34m\u001b[0m\u001b[0m\n\u001b[1;32m      2\u001b[0m \u001b[0;34m\u001b[0m\u001b[0m\n\u001b[0;32m----> 3\u001b[0;31m \u001b[0mdata_line\u001b[0m\u001b[0;34m=\u001b[0m\u001b[0;34m[\u001b[0m\u001b[0mline\u001b[0m\u001b[0;34m.\u001b[0m\u001b[0msplit\u001b[0m\u001b[0;34m(\u001b[0m\u001b[0;34m)\u001b[0m \u001b[0;32mfor\u001b[0m \u001b[0mline\u001b[0m \u001b[0;32min\u001b[0m \u001b[0mdata\u001b[0m\u001b[0;34m[\u001b[0m\u001b[0;34m-\u001b[0m\u001b[0;36m10000\u001b[0m\u001b[0;34m:\u001b[0m\u001b[0;34m]\u001b[0m\u001b[0;34m]\u001b[0m\u001b[0;34m\u001b[0m\u001b[0m\n\u001b[0m\u001b[1;32m      4\u001b[0m \u001b[0mprint\u001b[0m\u001b[0;34m(\u001b[0m\u001b[0mnp\u001b[0m\u001b[0;34m.\u001b[0m\u001b[0maverage\u001b[0m\u001b[0;34m(\u001b[0m\u001b[0;34m[\u001b[0m\u001b[0mlen\u001b[0m\u001b[0;34m(\u001b[0m\u001b[0mline\u001b[0m\u001b[0;34m)\u001b[0m \u001b[0;32mfor\u001b[0m \u001b[0mline\u001b[0m \u001b[0;32min\u001b[0m \u001b[0mdata_line\u001b[0m\u001b[0;34m]\u001b[0m\u001b[0;34m)\u001b[0m\u001b[0;34m)\u001b[0m\u001b[0;34m\u001b[0m\u001b[0m\n",
      "\u001b[0;31mNameError\u001b[0m: name 'data' is not defined"
     ]
    }
   ],
   "source": [
    "import numpy as np\n",
    "\n",
    "data_line=[line.split() for line in data[-10000:]]\n",
    "print(np.average([len(line) for line in data_line]))"
   ]
  },
  {
   "cell_type": "code",
   "execution_count": 8,
   "metadata": {},
   "outputs": [
    {
     "name": "stdout",
     "output_type": "stream",
     "text": [
      "True\n"
     ]
    }
   ],
   "source": [
    "import os\n",
    "print(os.path.exists(\"test.txt\"))\n",
    "os.remove(\"test.txt\")"
   ]
  },
  {
   "cell_type": "code",
   "execution_count": 9,
   "metadata": {},
   "outputs": [
    {
     "name": "stdout",
     "output_type": "stream",
     "text": [
      "README.md\n",
      "Untitled.ipynb\n",
      "bleu.py\n",
      "data\n",
      "evaluate.py\n",
      "func\n",
      "memo.txt\n",
      "model\n",
      "model_data\n",
      "process_data.py\n",
      "process_wordvec.py\n",
      "seq2seq2.py\n",
      "train.py\n"
     ]
    }
   ],
   "source": [
    "import torch\n"
   ]
  }
 ],
 "metadata": {
  "kernelspec": {
   "display_name": "Python 3",
   "language": "python",
   "name": "python3"
  },
  "language_info": {
   "codemirror_mode": {
    "name": "ipython",
    "version": 3
   },
   "file_extension": ".py",
   "mimetype": "text/x-python",
   "name": "python",
   "nbconvert_exporter": "python",
   "pygments_lexer": "ipython3",
   "version": "3.6.5"
  }
 },
 "nbformat": 4,
 "nbformat_minor": 2
}
