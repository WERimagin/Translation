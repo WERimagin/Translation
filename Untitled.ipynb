{
 "cells": [
  {
   "cell_type": "code",
   "execution_count": 9,
   "metadata": {},
   "outputs": [],
   "source": [
    "import warnings\n",
    "warnings.filterwarnings('ignore')\n",
    "import sys\n",
    "sys.path.append(\"../\")\n",
    "from tqdm import tqdm\n",
    "import nltk\n",
    "import pickle\n",
    "import json\n",
    "\n",
    "import numpy as np\n",
    "import argparse\n",
    "import torch\n",
    "import torch.nn as nn\n",
    "import torch.nn.functional as F\n",
    "import torch.optim as optim\n",
    "import torch.utils.data as data\n",
    "from torch.autograd import Variable\n",
    "import time\n",
    "from model.seq2seq import Seq2Seq\n",
    "from func.utils import Word2Id,BatchMaker,make_vec,make_vec_c,to_var\n",
    "import nltk\n",
    "\n",
    "path=\"data/test_data.json\"\n",
    "\n",
    "with open(path,\"r\")as f:\n",
    "    t=json.load(f)\n",
    "    questions=t[\"questions\"]\n",
    "    sentences=t[\"sentences\"]\n",
    "    answers=t[\"answers\"]\n",
    "    question_interros=t[\"question_interros\"]\n",
    "    neg_interros=t[\"neg_interros\"]\n",
    "    \n",
    "\n",
    "with open(\"data/word2id.json\",\"r\")as f:\n",
    "    t=json.load(f)#numpy(vocab_size*embed_size)\n",
    "    word2id=t[\"word2id\"]\n",
    "    id2vec=t[\"id2vec\"]\n",
    "    \n",
    "id2word={i:w for w,i in word2id.items()}"
   ]
  },
  {
   "cell_type": "code",
   "execution_count": 47,
   "metadata": {},
   "outputs": [],
   "source": [
    "import matplotlib.pyplot as plt\n",
    "import collections\n",
    "\n",
    "src_length=collections.defaultdict(int)\n",
    "\n",
    "for i in range(len(sentences)):\n",
    "    src_length[len(sentences[i].split())]+=1\n",
    "    "
   ]
  },
  {
   "cell_type": "code",
   "execution_count": 48,
   "metadata": {},
   "outputs": [
    {
     "data": {
      "text/plain": [
       "<BarContainer object of 130 artists>"
      ]
     },
     "execution_count": 48,
     "metadata": {},
     "output_type": "execute_result"
    },
    {
     "data": {
      "image/png": "[encoded data removed]",
      "text/plain": [
       "<Figure size 432x288 with 1 Axes>"
      ]
     },
     "metadata": {},
     "output_type": "display_data"
    }
   ],
   "source": [
    "key=list(src_length.keys())\n",
    "value=list(src_length.values())\n",
    "\n",
    "plt.bar(key,value)"
   ]
  },
  {
   "cell_type": "code",
   "execution_count": 51,
   "metadata": {},
   "outputs": [
    {
     "name": "stdout",
     "output_type": "stream",
     "text": [
      "8992\n",
      "14.015384615384615\n",
      "0.0\n"
     ]
    }
   ],
   "source": [
    "items=list(src_length.items())\n",
    "print(np.sum([v if k<=60 else 0 for k,v in items]))\n",
    "print(np.average([k if k<=60 else 0 for k,v in items]))\n",
    "print(np.median([k if k<=60 else 0 for k,v in items]))"
   ]
  },
  {
   "cell_type": "code",
   "execution_count": 25,
   "metadata": {},
   "outputs": [
    {
     "name": "stdout",
     "output_type": "stream",
     "text": [
      "?\n"
     ]
    }
   ],
   "source": [
    "print(id2word[12])"
   ]
  },
  {
   "cell_type": "code",
   "execution_count": 27,
   "metadata": {},
   "outputs": [
    {
     "data": {
      "text/plain": [
       "False"
      ]
     },
     "execution_count": 27,
     "metadata": {},
     "output_type": "execute_result"
    }
   ],
   "source": [
    "import os\n",
    "os.path.exists(\"log.txt\")"
   ]
  },
  {
   "cell_type": "code",
   "execution_count": 1,
   "metadata": {},
   "outputs": [],
   "source": [
    "data=[]\n",
    "with open(\"data/eng-fra.txt\")as f:\n",
    "    for line in f:\n",
    "        data.append(line.strip())\n",
    "        \n",
    "    "
   ]
  },
  {
   "cell_type": "code",
   "execution_count": 18,
   "metadata": {},
   "outputs": [
    {
     "name": "stdout",
     "output_type": "stream",
     "text": [
      "[\"Let's improvise.\", 'Improvisons.']\n",
      "[\"Let's improvise.\", 'Improvisons !']\n",
      "[\"Let's live here.\", 'Vivons ici !']\n",
      "[\"Let's negotiate.\", 'Négocions.']\n",
      "[\"Let's not argue.\", 'Ne nous disputons pas !']\n",
      "[\"Let's not fight.\", 'Ne nous battons pas !']\n",
      "[\"Let's not gloat.\", 'Ne jubilons pas !']\n",
      "[\"Let's not panic.\", 'Ne paniquons pas.']\n",
      "[\"Let's rest here.\", 'Reposons-nous ici.']\n",
      "[\"Let's start now.\", 'Commençons maintenant.']\n"
     ]
    }
   ],
   "source": [
    "for line in data[10000:10010]:\n",
    "    a=line.split(\"\\t\")\n",
    "    print(a)"
   ]
  },
  {
   "cell_type": "code",
   "execution_count": 15,
   "metadata": {},
   "outputs": [
    {
     "name": "stdout",
     "output_type": "stream",
     "text": [
      "24.2504\n"
     ]
    }
   ],
   "source": [
    "import numpy as np\n",
    "\n",
    "data_line=[line.split() for line in data[-10000:]]\n",
    "print(np.average([len(line) for line in data_line]))"
   ]
  },
  {
   "cell_type": "code",
   "execution_count": 14,
   "metadata": {},
   "outputs": [
    {
     "name": "stdout",
     "output_type": "stream",
     "text": [
      "It's a pleasure to finally meet you.\tC'est un plaisir que de finalement vous rencontrer.\n",
      "It's a risk we can't afford to take.\tC'est un risque que nous ne pouvons nous permettre de prendre.\n",
      "It's a shame Tom couldn't come, too.\tC'est dommage que Tom ne puisse venir, lui aussi.\n",
      "It's a shame that you're not coming.\tIl est dommage que vous ne veniez pas.\n",
      "It's all over for me. I lost my job.\tTout est fini pour moi. J'ai perdu mon travail.\n",
      "It's an ill wind that blows no good.\tC'est un mauvais vent qui ne souffle rien de bon.\n",
      "It's been raining for almost a week.\tCela fait presque une semaine qu'il pleut.\n",
      "It's been weeks since she's written.\tÇa fait des semaines qu'elle n'a pas écrit.\n",
      "It's better to give than to receive.\tIl est mieux de donner que de recevoir.\n",
      "It's cold today so button your coat.\tC'est un jour froid alors boutonne ton manteau.\n",
      "It's important to know one's limits.\tIl est important de connaître ses propres limites.\n",
      "It's my father who stopped drinking.\tC'est mon père qui a arrêté de boire.\n",
      "It's no use trying to intimidate me.\tIl est inutile d'essayer de m'intimider.\n",
      "It's no use waiting for him to come.\tÇa n'a pas de sens d'attendre qu'il vienne.\n",
      "It's not necessary to come tomorrow.\tIl n'est pas nécessaire de venir demain.\n",
      "It's not safe to swim in that river.\tIl n'est pas sans risque de nager dans cette rivière.\n",
      "It's okay to take it easy sometimes.\tC'est bien parfois de ne pas se prendre la tête.\n",
      "It's okay to take it easy sometimes.\tC'est bien parfois de faire les choses à tête reposée.\n",
      "It's okay to take it easy sometimes.\tC'est bien parfois de se la couler douce.\n",
      "It's something my mother used to do.\tC'est quelque chose que ma mère faisait.\n",
      "It's the fastest train in the world.\tC'est le train le plus rapide du monde.\n",
      "It's the fastest train in the world.\tC'est le train le plus rapide au monde.\n",
      "It's true that Americans love pizza.\tIl est exact que les Étasuniens adorent la pizza.\n",
      "It's up to you to decide what to do.\tC'est à toi de décider quoi faire.\n",
      "It's up to you to decide what to do.\tC'est à vous de décider ce qu'il faut faire.\n",
      "It's up to you to decide what to do.\tC'est à vous de décider de ce qu'il faut faire.\n",
      "It's up to you to decide what to do.\tC'est à toi de décider ce que tu veux faire.\n",
      "It's up to you to decide what to do.\tC'est à toi de décider de ce que tu veux faire.\n",
      "It's up to you to decide what to do.\tC'est à vous de décider ce que vous voulez faire.\n",
      "It's up to you to decide what to do.\tC'est à vous de décider de ce que vous voulez faire.\n",
      "It's very likely that he'll be late.\tIl est très probable qu'il soit en retard.\n",
      "It's very likely that he'll be late.\tIl est hautement probable qu'il soit en retard.\n",
      "It's your responsibility to do that.\tC'est ta responsabilité de faire ça.\n",
      "It's your responsibility to do that.\tC'est votre responsabilité de faire cela.\n",
      "Japan and South Korea are neighbors.\tLe Japon et la Corée du Sud sont des pays limitrophes.\n",
      "Japan has a high population density.\tLe Japon a une densité de population élevée.\n",
      "Japanese gardens usually have ponds.\tLes jardins japonais sont d'ordinaire pourvus d'étangs.\n",
      "Jobs are hard to come by these days.\tLes emplois sont difficiles à trouver de nos jours.\n",
      "Just act as if nothing has happened.\tComporte-toi simplement comme si rien ne s'était passé.\n",
      "Just act as if nothing has happened.\tComportez-vous simplement comme si rien ne s'était passé.\n",
      "Just act as if nothing has happened.\tComporte-toi simplement comme si rien ne s'était produit.\n",
      "Just act as if nothing has happened.\tComportez-vous simplement comme si rien ne s'était produit.\n",
      "Just act as if nothing has happened.\tComporte-toi simplement comme si rien n'était arrivé.\n",
      "Just mind your own business, please.\tOccupez-vous juste de vos affaires, je vous prie.\n",
      "Just mind your own business, please.\tOccupe-toi juste de tes affaires, je te prie.\n",
      "Just think what it could do for you.\tPense juste à ce que ça pourrait t'apporter !\n",
      "Just think what it could do for you.\tPensez juste à ce que ça pourrait vous apporter !\n",
      "Karaoke is good for reducing stress.\tLe karaoké est bon pour diminuer le stress.\n",
      "Kimchi is a traditional Korean dish.\tLe kimchi est un plat traditionnel coréen.\n",
      "Kyoto is famous for its old temples.\tKyoto est connue pour ses temples anciens.\n",
      "Language changes as human beings do.\tLe langage change de la même façon que le font les êtres humains.\n",
      "Let me make you a cup of hot coffee.\tLaisse-moi te faire une tasse de café chaud.\n",
      "Let me write down the steps for you.\tLaisse-moi t'en noter les étapes !\n",
      "Let me write down the steps for you.\tLaissez-moi vous en noter les étapes !\n",
      "Let's continue the game after lunch.\tContinuons le jeu après manger.\n",
      "Let's continue the game after lunch.\tContinuons le jeu après le déjeuner.\n",
      "Let's drink to our charming hostess!\tBuvons à notre charmante hôtesse !\n",
      "Let's go grab a burger or something.\tTrouvons-nous un hamburger ou autre chose.\n",
      "Let's go outside for some fresh air.\tAllons prendre l'air dehors.\n",
      "Let's hope next year will be better.\tEspérons que l'année prochaine soit meilleure.\n",
      "Let's hurry so we can catch the bus.\tDépêchons-nous, de manière à attraper le bus.\n",
      "Let's keep in touch with each other.\tRestons en contact.\n",
      "Let's leave as soon as he gets back.\tPartons dès qu'il est revenu.\n",
      "Let's not be in too much of a hurry.\tNe nous précipitons pas.\n",
      "Let's sit where there is some shade.\tAsseyons-nous là où il y a de l'ombre.\n",
      "Let's try to understand one another.\tEssayons de nous comprendre l'un l'autre.\n",
      "Let's visit my grandpa this weekend.\tRendons visite à mon Papy, ce week-end !\n",
      "Let's visit my grandpa this weekend.\tRendons visite à mon Bon-Papa, ce week-end !\n",
      "Life is often compared to a journey.\tOn assimile souvent la vie à un voyage.\n",
      "Life is often compared to a journey.\tLa vie est souvent comparée à un voyage.\n",
      "Lock the window before going to bed.\tFermez la fenêtre avant d'aller vous coucher.\n",
      "Look into the matter more carefully.\tRegarde ce problème plus attentivement.\n",
      "Look into the matter more carefully.\tRegardez ce problème plus attentivement.\n",
      "Look up the word in your dictionary.\tCherchez ce mot dans votre dictionnaire.\n",
      "Look up this word in the dictionary.\tCherchez ce mot dans le dictionnaire.\n",
      "Luck comes to those who look for it.\tLa chance sourit aux audacieux.\n",
      "Luck comes to those who look for it.\tLa chance vient à ceux qui la cherchent.\n",
      "Make sure to back up all your files.\tAssurez-vous de sauvegarder tous vos fichiers.\n",
      "Make sure to back up all your files.\tAssure-toi de sauvegarder tous tes fichiers.\n",
      "Make this sentence a little shorter.\tRaccourcis un peu cette phrase.\n",
      "Making a model plane is interesting.\tRéaliser une maquette d'avion est intéressant.\n",
      "Many American planes were shot down.\tDe nombreux avions étasuniens furent abattus.\n",
      "Many American planes were shot down.\tDe nombreux appareils étasuniens furent abattus.\n",
      "Many Japanese get married in church.\tBeaucoup de Japonais se marient dans des églises.\n",
      "Many buildings burned to the ground.\tDe nombreux bâtiments furent réduits en cendres.\n",
      "Many cities were destroyed by bombs.\tDe nombreuses villes furent détruites par les bombes.\n",
      "Many foreigners speak good Japanese.\tBeaucoup d'étrangers parlent bien japonais.\n",
      "Many forms of life are disappearing.\tDe nombreuses formes de vie sont en train de disparaître.\n",
      "Many runners passed out in the heat.\tSous l'effet de la chaleur, beaucoup de coureurs ont perdu conscience.\n",
      "Mary is being careful with her baby.\tMary fait attention avec son bébé.\n",
      "Mary is expecting a baby in October.\tMary attend un bébé pour octobre.\n",
      "May I ask you to call me back later?\tPourrais-tu me rappeler un peu plus tard ?\n",
      "Maybe I'll go swimming after school.\tPeut-être que je vais aller nager après l'école.\n",
      "Meat decays quickly in warm weather.\tLa viande se gâte vite par temps chaud.\n",
      "Men with guns were waiting for them.\tDes hommes en armes les attendaient.\n",
      "Millions of workers lost their jobs.\tDes millions de travailleurs perdirent leurs emplois.\n",
      "Miniskirts have gone out of fashion.\tLes minijupes sont passées de mode.\n",
      "Money is not a criterion of success.\tL'argent n'est pas un critère de réussite.\n",
      "More than five-hundred were wounded.\tPlus de cinq cents personnes ont été blessées.\n",
      "Mother is in bed. She caught a cold.\tLa maman est au lit, elle a attrapé froid.\n"
     ]
    }
   ],
   "source": [
    "print(*data[100000:100100],sep=\"\\n\")"
   ]
  }
 ],
 "metadata": {
  "kernelspec": {
   "display_name": "Python 3",
   "language": "python",
   "name": "python3"
  },
  "language_info": {
   "codemirror_mode": {
    "name": "ipython",
    "version": 3
   },
   "file_extension": ".py",
   "mimetype": "text/x-python",
   "name": "python",
   "nbconvert_exporter": "python",
   "pygments_lexer": "ipython3",
   "version": "3.6.5"
  }
 },
 "nbformat": 4,
 "nbformat_minor": 2
}
